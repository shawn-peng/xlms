{
 "cells": [
  {
   "cell_type": "code",
   "execution_count": 1,
   "id": "d88a4cbf-c946-4c3d-943e-caa086ce4d18",
   "metadata": {},
   "outputs": [],
   "source": [
    "%load_ext autoreload\n",
    "%autoreload 2"
   ]
  },
  {
   "cell_type": "code",
   "execution_count": 2,
   "id": "358660af-ab2b-4098-ad29-31551db6f047",
   "metadata": {},
   "outputs": [],
   "source": [
    "import idxml"
   ]
  },
  {
   "cell_type": "code",
   "execution_count": 4,
   "id": "af6d3087-5686-436f-8049-a3183ff09d9d",
   "metadata": {},
   "outputs": [],
   "source": [
    "xlms_res = idxml.XLMS_res('../results/openpepxllf/alban/20210702_L1_UM5_alban001_SA_EXT00_Ilse_fbn_dss2_450mm.idXML')"
   ]
  },
  {
   "cell_type": "code",
   "execution_count": 5,
   "id": "facbdfbe-8a5e-4366-9473-2176ab6b6a08",
   "metadata": {},
   "outputs": [],
   "source": [
    "xlms_res = idxml.XLMS_res.from_old(xlms_res)"
   ]
  },
  {
   "cell_type": "code",
   "execution_count": 18,
   "id": "ff782715-4591-48e6-be5b-fbab54d21d61",
   "metadata": {
    "scrolled": true
   },
   "outputs": [
    {
     "name": "stdout",
     "output_type": "stream",
     "text": [
      "{'score_type': 'OpenPepXL:score', 'higher_score_better': 'true', 'significance_threshold': '0.0', 'MZ': '655.048889160156023', 'RT': '756.125406943002076', 'spectrum_reference': 'controllerType=0 controllerNumber=1 scan=2831', 'xl_chain': 'MS:1002509', 'xl_pos1': 9, 'spectrum_index': 14, 'xl_type': 'cross-link', 'xl_rank': 1, 'xl_term_spec_alpha': 'ANYWHERE', 'xl_term_spec_beta': 'ANYWHERE', 'isotope_error': 1}\n",
      "{'score': '0.30039979842643', 'sequence': 'C(Carbamidomethyl)AEENC(Carbamidomethyl)FIQKSDDK', 'charge': '4', 'aa_before': 'R', 'aa_after': 'V', 'start': '1512', 'end': '1525', 'protein_refs': 'PH_7', 'fragment_annotation': '130.086456298828125,8.05184617638588e-03,1,\"[alpha|ci$y1-H3N1]\"|130.086456298828125,8.05184617638588e-03,1,\"[beta|ci$y1-H3N1]\"|147.113449096679688,0.016033260151744,1,\"[alpha|ci$y1]\"|147.113449096679688,0.016033260151744,1,\"[beta|ci$y1]\"|650.2958984375,0.372429639101028,4,\"[M+H]-H2O\"|718.6810302734375,0.955175399780274,3,\"[alpha|xi$b10]\"', 'spectrum_reference': 'controllerType=0 controllerNumber=1 scan=2831', 'xl_mod': 'DSS', 'xl_mass': 138.0680796, 'xl_pos2': 1, 'xl_chain': 'MS:1002509', 'xl_pos1': 9, 'spectrum_index': 14, 'xl_type': 'cross-link', 'xl_rank': 1, 'xl_term_spec_alpha': 'ANYWHERE', 'xl_term_spec_beta': 'ANYWHERE', 'isotope_error': 1, 'precursor_mz_error_ppm': -1.334940014165111, 'OpenPepXL:score': 0.30039979842643, 'OpenPepXL:xquest_score': 14.113353627782647, 'OpenPepXL:xcorr xlink': 0.041666666666667, 'OpenPepXL:xcorr common': 0.025, 'OpenPepXL:match-odds': 5.486222645675791, 'OpenPepXL:intsum': 1.351690145209432, 'OpenPepXL:intsum_alpha': 1.045109905846847, 'OpenPepXL:intsum_beta': 0.371778516240291, 'OpenPepXL:total_current': 14.461283590644598, 'OpenPepXL:wTIC': 0.056681189914117, 'OpenPepXL:TIC': 0.093469582885704, 'OpenPepXL:prescore': 0.0, 'OpenPepXL:log_occupancy': 7.652913465489096, 'OpenPepXL:log_occupancy_alpha': 5.953389570787175, 'OpenPepXL:log_occupancy_beta': 9.352437360191015, 'matched_xlink_alpha': 2, 'matched_xlink_beta': 1, 'matched_linear_alpha': 2, 'matched_linear_beta': 2, 'ppm_error_abs_sum_linear_alpha': 2.959989607334137, 'ppm_error_abs_sum_linear_beta': 2.959989607334137, 'ppm_error_abs_sum_xlinks_alpha': 10.212662786245346, 'ppm_error_abs_sum_xlinks_beta': 0.589760005474091, 'ppm_error_abs_sum_linear': 2.959989607334137, 'ppm_error_abs_sum_xlinks': 7.005028525988261, 'ppm_error_abs_sum_alpha': 6.586326196789742, 'ppm_error_abs_sum_beta': 2.169913073380788, 'ppm_error_abs_sum': 4.693577715328762, 'precursor_total_intensity': 2375961.25, 'precursor_target_intensity': 2375961.25, 'precursor_signal_proportion': 1.0, 'precursor_target_peak_count': 2, 'precursor_residual_peak_count': 0, 'selected': 'false', 'sequence_beta': 'C(Carbamidomethyl)KVSNK', 'target_decoy': 'target', 'protein_references': 'unique', 'xl_pos1_protein': '1522', 'xl_pos2_protein': '205', 'accessions_beta': 'sp|P01857|IGHG1_HUMAN', 'xl_target_decoy_alpha': 'target', 'xl_target_decoy_beta': 'target', 'delta_score': 1.0}\n",
      "spectrum_reference\n",
      "xl_chain\n",
      "xl_pos1\n",
      "spectrum_index\n",
      "xl_type\n",
      "xl_rank\n",
      "xl_term_spec_alpha\n",
      "xl_term_spec_beta\n",
      "isotope_error\n"
     ]
    },
    {
     "data": {
      "text/html": [
       "<div>\n",
       "<style scoped>\n",
       "    .dataframe tbody tr th:only-of-type {\n",
       "        vertical-align: middle;\n",
       "    }\n",
       "\n",
       "    .dataframe tbody tr th {\n",
       "        vertical-align: top;\n",
       "    }\n",
       "\n",
       "    .dataframe thead th {\n",
       "        text-align: right;\n",
       "    }\n",
       "</style>\n",
       "<table border=\"1\" class=\"dataframe\">\n",
       "  <thead>\n",
       "    <tr style=\"text-align: right;\">\n",
       "      <th></th>\n",
       "      <th>score_type</th>\n",
       "      <th>higher_score_better</th>\n",
       "      <th>significance_threshold</th>\n",
       "      <th>MZ</th>\n",
       "      <th>RT</th>\n",
       "      <th>spectrum_reference</th>\n",
       "      <th>xl_chain</th>\n",
       "      <th>xl_pos1</th>\n",
       "      <th>spectrum_index</th>\n",
       "      <th>xl_type</th>\n",
       "      <th>...</th>\n",
       "      <th>selected</th>\n",
       "      <th>sequence_beta</th>\n",
       "      <th>target_decoy</th>\n",
       "      <th>protein_references</th>\n",
       "      <th>xl_pos1_protein</th>\n",
       "      <th>xl_pos2_protein</th>\n",
       "      <th>accessions_beta</th>\n",
       "      <th>xl_target_decoy_alpha</th>\n",
       "      <th>xl_target_decoy_beta</th>\n",
       "      <th>delta_score</th>\n",
       "    </tr>\n",
       "  </thead>\n",
       "  <tbody>\n",
       "    <tr>\n",
       "      <th>0</th>\n",
       "      <td>OpenPepXL:score</td>\n",
       "      <td>true</td>\n",
       "      <td>0.0</td>\n",
       "      <td>655.048889160156023</td>\n",
       "      <td>756.125406943002076</td>\n",
       "      <td>controllerType=0 controllerNumber=1 scan=2831</td>\n",
       "      <td>MS:1002509</td>\n",
       "      <td>9</td>\n",
       "      <td>14</td>\n",
       "      <td>cross-link</td>\n",
       "      <td>...</td>\n",
       "      <td>false</td>\n",
       "      <td>C(Carbamidomethyl)KVSNK</td>\n",
       "      <td>target</td>\n",
       "      <td>unique</td>\n",
       "      <td>1522</td>\n",
       "      <td>205</td>\n",
       "      <td>sp|P01857|IGHG1_HUMAN</td>\n",
       "      <td>target</td>\n",
       "      <td>target</td>\n",
       "      <td>1.0</td>\n",
       "    </tr>\n",
       "  </tbody>\n",
       "</table>\n",
       "<p>1 rows × 70 columns</p>\n",
       "</div>"
      ],
      "text/plain": [
       "        score_type higher_score_better significance_threshold  \\\n",
       "0  OpenPepXL:score                true                    0.0   \n",
       "\n",
       "                    MZ                   RT  \\\n",
       "0  655.048889160156023  756.125406943002076   \n",
       "\n",
       "                              spectrum_reference    xl_chain  xl_pos1  \\\n",
       "0  controllerType=0 controllerNumber=1 scan=2831  MS:1002509        9   \n",
       "\n",
       "   spectrum_index     xl_type  ...  selected            sequence_beta  \\\n",
       "0              14  cross-link  ...     false  C(Carbamidomethyl)KVSNK   \n",
       "\n",
       "  target_decoy  protein_references xl_pos1_protein xl_pos2_protein  \\\n",
       "0       target              unique            1522             205   \n",
       "\n",
       "         accessions_beta xl_target_decoy_alpha xl_target_decoy_beta  \\\n",
       "0  sp|P01857|IGHG1_HUMAN                target               target   \n",
       "\n",
       "  delta_score  \n",
       "0         1.0  \n",
       "\n",
       "[1 rows x 70 columns]"
      ]
     },
     "execution_count": 18,
     "metadata": {},
     "output_type": "execute_result"
    }
   ],
   "source": [
    "# df = idxml.DataFrame('../results/openpepxllf/alban/20210702_L1_UM5_alban001_SA_EXT00_Ilse_fbn_dss2_450mm.idXML')\n",
    "\n",
    "xlms_res = idxml.XLMS_res.from_old(xlms_res)\n",
    "df = xlms_res.DataFrame()\n",
    "df"
   ]
  },
  {
   "cell_type": "code",
   "execution_count": 20,
   "id": "6d17adfb-3a24-4ace-b89e-039664c7096c",
   "metadata": {},
   "outputs": [
    {
     "ename": "KeyError",
     "evalue": "'sequence_alpha'",
     "output_type": "error",
     "traceback": [
      "\u001b[1;31m---------------------------------------------------------------------------\u001b[0m",
      "\u001b[1;31mKeyError\u001b[0m                                  Traceback (most recent call last)",
      "File \u001b[1;32mg:\\.conda\\cuda11.8\\lib\\site-packages\\pandas\\core\\indexes\\base.py:3653\u001b[0m, in \u001b[0;36mIndex.get_loc\u001b[1;34m(self, key)\u001b[0m\n\u001b[0;32m   3652\u001b[0m \u001b[38;5;28;01mtry\u001b[39;00m:\n\u001b[1;32m-> 3653\u001b[0m     \u001b[38;5;28;01mreturn\u001b[39;00m \u001b[38;5;28;43mself\u001b[39;49m\u001b[38;5;241;43m.\u001b[39;49m\u001b[43m_engine\u001b[49m\u001b[38;5;241;43m.\u001b[39;49m\u001b[43mget_loc\u001b[49m\u001b[43m(\u001b[49m\u001b[43mcasted_key\u001b[49m\u001b[43m)\u001b[49m\n\u001b[0;32m   3654\u001b[0m \u001b[38;5;28;01mexcept\u001b[39;00m \u001b[38;5;167;01mKeyError\u001b[39;00m \u001b[38;5;28;01mas\u001b[39;00m err:\n",
      "File \u001b[1;32mg:\\.conda\\cuda11.8\\lib\\site-packages\\pandas\\_libs\\index.pyx:147\u001b[0m, in \u001b[0;36mpandas._libs.index.IndexEngine.get_loc\u001b[1;34m()\u001b[0m\n",
      "File \u001b[1;32mg:\\.conda\\cuda11.8\\lib\\site-packages\\pandas\\_libs\\index.pyx:176\u001b[0m, in \u001b[0;36mpandas._libs.index.IndexEngine.get_loc\u001b[1;34m()\u001b[0m\n",
      "File \u001b[1;32mpandas\\_libs\\hashtable_class_helper.pxi:7080\u001b[0m, in \u001b[0;36mpandas._libs.hashtable.PyObjectHashTable.get_item\u001b[1;34m()\u001b[0m\n",
      "File \u001b[1;32mpandas\\_libs\\hashtable_class_helper.pxi:7088\u001b[0m, in \u001b[0;36mpandas._libs.hashtable.PyObjectHashTable.get_item\u001b[1;34m()\u001b[0m\n",
      "\u001b[1;31mKeyError\u001b[0m: 'sequence_alpha'",
      "\nThe above exception was the direct cause of the following exception:\n",
      "\u001b[1;31mKeyError\u001b[0m                                  Traceback (most recent call last)",
      "Cell \u001b[1;32mIn[20], line 1\u001b[0m\n\u001b[1;32m----> 1\u001b[0m \u001b[43mdf\u001b[49m\u001b[43m[\u001b[49m\u001b[38;5;124;43m'\u001b[39;49m\u001b[38;5;124;43msequence_alpha\u001b[39;49m\u001b[38;5;124;43m'\u001b[39;49m\u001b[43m]\u001b[49m\n",
      "File \u001b[1;32mg:\\.conda\\cuda11.8\\lib\\site-packages\\pandas\\core\\frame.py:3761\u001b[0m, in \u001b[0;36mDataFrame.__getitem__\u001b[1;34m(self, key)\u001b[0m\n\u001b[0;32m   3759\u001b[0m \u001b[38;5;28;01mif\u001b[39;00m \u001b[38;5;28mself\u001b[39m\u001b[38;5;241m.\u001b[39mcolumns\u001b[38;5;241m.\u001b[39mnlevels \u001b[38;5;241m>\u001b[39m \u001b[38;5;241m1\u001b[39m:\n\u001b[0;32m   3760\u001b[0m     \u001b[38;5;28;01mreturn\u001b[39;00m \u001b[38;5;28mself\u001b[39m\u001b[38;5;241m.\u001b[39m_getitem_multilevel(key)\n\u001b[1;32m-> 3761\u001b[0m indexer \u001b[38;5;241m=\u001b[39m \u001b[38;5;28;43mself\u001b[39;49m\u001b[38;5;241;43m.\u001b[39;49m\u001b[43mcolumns\u001b[49m\u001b[38;5;241;43m.\u001b[39;49m\u001b[43mget_loc\u001b[49m\u001b[43m(\u001b[49m\u001b[43mkey\u001b[49m\u001b[43m)\u001b[49m\n\u001b[0;32m   3762\u001b[0m \u001b[38;5;28;01mif\u001b[39;00m is_integer(indexer):\n\u001b[0;32m   3763\u001b[0m     indexer \u001b[38;5;241m=\u001b[39m [indexer]\n",
      "File \u001b[1;32mg:\\.conda\\cuda11.8\\lib\\site-packages\\pandas\\core\\indexes\\base.py:3655\u001b[0m, in \u001b[0;36mIndex.get_loc\u001b[1;34m(self, key)\u001b[0m\n\u001b[0;32m   3653\u001b[0m     \u001b[38;5;28;01mreturn\u001b[39;00m \u001b[38;5;28mself\u001b[39m\u001b[38;5;241m.\u001b[39m_engine\u001b[38;5;241m.\u001b[39mget_loc(casted_key)\n\u001b[0;32m   3654\u001b[0m \u001b[38;5;28;01mexcept\u001b[39;00m \u001b[38;5;167;01mKeyError\u001b[39;00m \u001b[38;5;28;01mas\u001b[39;00m err:\n\u001b[1;32m-> 3655\u001b[0m     \u001b[38;5;28;01mraise\u001b[39;00m \u001b[38;5;167;01mKeyError\u001b[39;00m(key) \u001b[38;5;28;01mfrom\u001b[39;00m \u001b[38;5;21;01merr\u001b[39;00m\n\u001b[0;32m   3656\u001b[0m \u001b[38;5;28;01mexcept\u001b[39;00m \u001b[38;5;167;01mTypeError\u001b[39;00m:\n\u001b[0;32m   3657\u001b[0m     \u001b[38;5;66;03m# If we have a listlike key, _check_indexing_error will raise\u001b[39;00m\n\u001b[0;32m   3658\u001b[0m     \u001b[38;5;66;03m#  InvalidIndexError. Otherwise we fall through and re-raise\u001b[39;00m\n\u001b[0;32m   3659\u001b[0m     \u001b[38;5;66;03m#  the TypeError.\u001b[39;00m\n\u001b[0;32m   3660\u001b[0m     \u001b[38;5;28mself\u001b[39m\u001b[38;5;241m.\u001b[39m_check_indexing_error(key)\n",
      "\u001b[1;31mKeyError\u001b[0m: 'sequence_alpha'"
     ]
    }
   ],
   "source": [
    "df['sequence_alpha']"
   ]
  }
 ],
 "metadata": {
  "kernelspec": {
   "display_name": "Python 3 (ipykernel)",
   "language": "python",
   "name": "python3"
  },
  "language_info": {
   "codemirror_mode": {
    "name": "ipython",
    "version": 3
   },
   "file_extension": ".py",
   "mimetype": "text/x-python",
   "name": "python",
   "nbconvert_exporter": "python",
   "pygments_lexer": "ipython3",
   "version": "3.10.12"
  }
 },
 "nbformat": 4,
 "nbformat_minor": 5
}
