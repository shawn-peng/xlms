{
 "cells": [
  {
   "cell_type": "code",
   "execution_count": 1,
   "id": "391eb466-a839-45ca-a2ed-57d6083561cd",
   "metadata": {},
   "outputs": [],
   "source": [
    "%load_ext autoreload\n",
    "%autoreload 2"
   ]
  },
  {
   "cell_type": "code",
   "execution_count": 2,
   "id": "c8d6f732-3421-4da1-a98c-c5ac52afe6c6",
   "metadata": {},
   "outputs": [],
   "source": [
    "import os\n",
    "import sys\n",
    "import pandas as pd\n",
    "import numpy as np\n",
    "import torch\n",
    "import pickle\n",
    "import matplotlib.pyplot as plt\n",
    "from collections import defaultdict"
   ]
  },
  {
   "cell_type": "code",
   "execution_count": 3,
   "id": "f1687228-29b9-49bb-b2ee-ac65aa89b979",
   "metadata": {},
   "outputs": [
    {
     "name": "stderr",
     "output_type": "stream",
     "text": [
      "\u001b[32m00:01:39\u001b[0m|TQ-\u001b[34mWARNING\u001b[0m| \u001b[33m\u001b[1mError enabling CUDA. cuda.is_available() returned False. CPU will be used.\u001b[0m\n"
     ]
    },
    {
     "name": "stdout",
     "output_type": "stream",
     "text": [
      "cpu\n"
     ]
    },
    {
     "name": "stderr",
     "output_type": "stream",
     "text": [
      "/home/peng.yis/.conda/envs/cuda11.8/lib/python3.10/site-packages/torch/__init__.py:614: UserWarning: torch.set_default_tensor_type() is deprecated as of PyTorch 2.1, please use torch.set_default_dtype() and torch.set_default_device() as alternatives. (Triggered internally at /opt/conda/conda-bld/pytorch_1695392020201/work/torch/csrc/tensor/python_tensor.cpp:451.)\n",
      "  _C._set_default_tensor_type(t)\n"
     ]
    }
   ],
   "source": [
    "from mixture_model_base import MixtureModelBase\n",
    "from mixture_model import MixtureModel\n",
    "from mixture_model_1S import MixtureModel1S\n",
    "from order_stat_mixture_model import OrderStatMixtureModel\n",
    "from order_stat_mixture_model_v2 import OrderStatMixtureModelV2\n",
    "from xlms import XLMS_Dataset\n",
    "from myutils import *\n"
   ]
  },
  {
   "cell_type": "code",
   "execution_count": null,
   "id": "ddc341f5-c777-46d7-8a3b-be572834f283",
   "metadata": {},
   "outputs": [],
   "source": []
  },
  {
   "cell_type": "code",
   "execution_count": 4,
   "id": "5a316242-0957-4def-bd0c-5cff9f8b8b57",
   "metadata": {},
   "outputs": [],
   "source": [
    "def collect_models_for_initskew(initskew_dir):\n",
    "    p = f'{initskew_dir}/models.pickle'\n",
    "    if not os.path.exists(p):\n",
    "        return\n",
    "    models = pickle.load(open(p, 'rb'))\n",
    "    # models = pd.DataFrame(models)\n",
    "    # models = NamedTensor(models.values, names=['randi', 'attr'])\n",
    "    # print(models.shape)\n",
    "    # print(\n",
    "    return models"
   ]
  },
  {
   "cell_type": "code",
   "execution_count": 5,
   "id": "bd8c3474-f959-4c25-b713-13449832c4f4",
   "metadata": {},
   "outputs": [],
   "source": [
    "def collect_models_for_dataset(dataset_dir):\n",
    "    models = []\n",
    "    for initskew in os.listdir(dataset_dir):\n",
    "        d = f'{dataset_dir}/{initskew}'\n",
    "        if not os.path.isdir(d):\n",
    "            continue\n",
    "        x = collect_models_for_initskew(d)\n",
    "        if x is None:\n",
    "            continue\n",
    "        models.append(x)\n",
    "    return np.array(models)"
   ]
  },
  {
   "cell_type": "code",
   "execution_count": 6,
   "id": "e9dd6718-6d26-4fc7-b3ec-3a157f358a5d",
   "metadata": {},
   "outputs": [],
   "source": [
    "def collect_models_for_strategy(config, strategy, nsamples=2):\n",
    "    d = f'../figures_python_diffsign_{nsamples}S2_{config}_{strategy}_initskew_1_2_5/'\n",
    "    models = []\n",
    "    for dataset in sorted(os.listdir(d)):\n",
    "        # if dataset == 'D1810':\n",
    "        #     continue\n",
    "        ds_d = d + dataset\n",
    "        if not os.path.isdir(ds_d):\n",
    "            continue\n",
    "        print(dataset)\n",
    "        x = collect_models_for_dataset(ds_d)\n",
    "        if x is None:\n",
    "            return\n",
    "        models.append(x)\n",
    "    return np.array(models)"
   ]
  },
  {
   "cell_type": "code",
   "execution_count": 7,
   "id": "c758a82e-66b8-47e2-b51c-d6bf92872ca8",
   "metadata": {},
   "outputs": [],
   "source": [
    "config = 'unweighted_pdf_mode'"
   ]
  },
  {
   "cell_type": "code",
   "execution_count": 8,
   "id": "d2d7a28a-4736-41bd-8d9c-f43cb9f889c9",
   "metadata": {},
   "outputs": [
    {
     "name": "stdout",
     "output_type": "stream",
     "text": [
      "ALott\n",
      "Alinden\n",
      "CPSF\n",
      "D1810\n",
      "MS2000225\n",
      "QE\n",
      "RPA\n",
      "alban\n",
      "ecoli_xl\n",
      "peplib\n"
     ]
    }
   ],
   "source": [
    "models_1s = (collect_models_for_strategy(config, 'gaussian', nsamples=1))\n",
    "models_1s = np.array(models_1s)"
   ]
  },
  {
   "cell_type": "code",
   "execution_count": 9,
   "id": "ea7bd8d9-6a5f-47b3-9917-aad3b4606a80",
   "metadata": {},
   "outputs": [
    {
     "name": "stdout",
     "output_type": "stream",
     "text": [
      "ALott\n",
      "Alinden\n",
      "CPSF\n",
      "D1810\n",
      "MS2000225\n",
      "QE\n",
      "RPA\n",
      "alban\n",
      "ecoli_xl\n",
      "peplib\n"
     ]
    }
   ],
   "source": [
    "models_2s = (collect_models_for_strategy(config, 'gaussian'))\n",
    "models_2s = np.array(models_2s)"
   ]
  },
  {
   "cell_type": "code",
   "execution_count": 10,
   "id": "b1548ce3-6327-4f85-8f49-e89c64ae1738",
   "metadata": {},
   "outputs": [
    {
     "name": "stdout",
     "output_type": "stream",
     "text": [
      "ALott\n",
      "Alinden\n",
      "CPSF\n",
      "D1810\n",
      "MS2000225\n",
      "QE\n",
      "RPA\n",
      "alban\n",
      "ecoli_xl\n",
      "peplib\n"
     ]
    }
   ],
   "source": [
    "models_2s_nc = (collect_models_for_strategy('no_constraint', 'gaussian'))\n",
    "models_2s_nc = np.array(models_2s_nc)"
   ]
  },
  {
   "cell_type": "code",
   "execution_count": null,
   "id": "90cae091-f0df-4f5e-9c90-9618cdbc0a68",
   "metadata": {},
   "outputs": [],
   "source": []
  },
  {
   "cell_type": "code",
   "execution_count": 13,
   "id": "a66de601-e1c6-4898-9a5f-458af94ed7f8",
   "metadata": {},
   "outputs": [],
   "source": [
    "datasets = [\n",
    "    'ALott',\n",
    "    'Alinden',\n",
    "    'CPSF',\n",
    "    'D1810',\n",
    "    'MS2000225',\n",
    "    'QE',\n",
    "    'RPA',\n",
    "    'alban',\n",
    "    'ecoli_xl',\n",
    "    'peplib',\n",
    "]"
   ]
  },
  {
   "cell_type": "code",
   "execution_count": 14,
   "id": "3087b358-d9e2-40f4-8b4e-ad4053fd8c6b",
   "metadata": {},
   "outputs": [],
   "source": [
    "dataset_ind = {d: i for i, d in enumerate(datasets)}"
   ]
  },
  {
   "cell_type": "code",
   "execution_count": null,
   "id": "c55886cb-0aee-4829-aa6b-b5d397e25ff3",
   "metadata": {},
   "outputs": [],
   "source": []
  },
  {
   "cell_type": "code",
   "execution_count": 12,
   "id": "9b92009b-34a5-455f-a84e-f3136dd795ad",
   "metadata": {},
   "outputs": [],
   "source": [
    "def load_dataset(dataset_name):\n",
    "    tda_info = json.load(open(f'../results/info/{dataset_name}.json'))\n",
    "    dataset = XLMS_Dataset(dataset_name, nodup=True)\n",
    "    # dataset.mat = dataset.mat[:, dataset.mat[1, :] != 0]\n",
    "    return dataset, tda_info"
   ]
  },
  {
   "cell_type": "code",
   "execution_count": 16,
   "id": "a4fc13ca-caf5-4419-b456-884fdc0847b3",
   "metadata": {
    "scrolled": true
   },
   "outputs": [
    {
     "data": {
      "text/plain": [
       "(10, 6, 40)"
      ]
     },
     "execution_count": 16,
     "metadata": {},
     "output_type": "execute_result"
    }
   ],
   "source": [
    "models_2s.shape"
   ]
  },
  {
   "cell_type": "code",
   "execution_count": 18,
   "id": "cdcbc7a8-3acd-4c14-9f5f-d052c27b3f91",
   "metadata": {},
   "outputs": [],
   "source": [
    "@gen_ufunc(1, 1)\n",
    "def get_model_run_time(model):\n",
    "    return model['timeused']"
   ]
  },
  {
   "cell_type": "code",
   "execution_count": 20,
   "id": "8fec7571-df66-4a01-b28a-df4c2a96746e",
   "metadata": {},
   "outputs": [
    {
     "data": {
      "text/plain": [
       "(10, 6, 40)"
      ]
     },
     "execution_count": 20,
     "metadata": {},
     "output_type": "execute_result"
    }
   ],
   "source": [
    "all_runtime = get_model_run_time(models_2s)\n",
    "all_runtime.shape"
   ]
  },
  {
   "cell_type": "code",
   "execution_count": 25,
   "id": "17336b38-509b-489a-8f6e-835ab3ff708d",
   "metadata": {},
   "outputs": [],
   "source": [
    "dataset_runtime = reduce(np.add, all_runtime, (1, 2))"
   ]
  },
  {
   "cell_type": "code",
   "execution_count": 26,
   "id": "56180c49-6bb4-4310-aeef-aa423601b47c",
   "metadata": {},
   "outputs": [
    {
     "data": {
      "text/plain": [
       "array([96164699.47353402, 119428934.154095, 87641573.64798701,\n",
       "       55143437.81074398, 59190867.655340984, 61943222.628990985,\n",
       "       50466130.692726, 82402238.46479197, 158423041.93999004,\n",
       "       58413215.790357016], dtype=object)"
      ]
     },
     "execution_count": 26,
     "metadata": {},
     "output_type": "execute_result"
    }
   ],
   "source": [
    "dataset_runtime"
   ]
  },
  {
   "cell_type": "code",
   "execution_count": 34,
   "id": "279dfdbf-9ddc-4071-b9e0-07173ba5700e",
   "metadata": {},
   "outputs": [],
   "source": [
    "@gen_ufunc(1, 1)\n",
    "def ms_to_hms(ms):\n",
    "    h = ms / 1000 / 60 // 60\n",
    "    m = (ms / 1000 - h * 60 * 60) // 60\n",
    "    s = ms / 1000 - h * 60 * 60 - m * 60\n",
    "    return f'{h:.0f} hours {m:.0f} minutes {s:.2f} seconds'"
   ]
  },
  {
   "cell_type": "code",
   "execution_count": 35,
   "id": "de78f427-a040-4915-a143-4789150e56ad",
   "metadata": {},
   "outputs": [
    {
     "data": {
      "text/plain": [
       "array(['26 hours 42 minutes 44.70 seconds',\n",
       "       '33 hours 10 minutes 28.93 seconds',\n",
       "       '24 hours 20 minutes 41.57 seconds',\n",
       "       '15 hours 19 minutes 3.44 seconds',\n",
       "       '16 hours 26 minutes 30.87 seconds',\n",
       "       '17 hours 12 minutes 23.22 seconds',\n",
       "       '14 hours 1 minutes 6.13 seconds',\n",
       "       '22 hours 53 minutes 22.24 seconds',\n",
       "       '44 hours 0 minutes 23.04 seconds',\n",
       "       '16 hours 13 minutes 33.22 seconds'], dtype=object)"
      ]
     },
     "execution_count": 35,
     "metadata": {},
     "output_type": "execute_result"
    }
   ],
   "source": [
    "ms_to_hms(dataset_runtime)"
   ]
  },
  {
   "cell_type": "code",
   "execution_count": 38,
   "id": "ae6b5d1e-580e-40e5-b8f4-6f2ec1fad0a6",
   "metadata": {},
   "outputs": [],
   "source": [
    "res = {k: {'runtime': v} for k, v in zip(datasets, ms_to_hms(dataset_runtime))}\n",
    "df = pd.DataFrame(res).T"
   ]
  },
  {
   "cell_type": "code",
   "execution_count": 39,
   "id": "16581145-d02b-442e-93ee-65e7782784da",
   "metadata": {},
   "outputs": [
    {
     "data": {
      "text/html": [
       "<div>\n",
       "<style scoped>\n",
       "    .dataframe tbody tr th:only-of-type {\n",
       "        vertical-align: middle;\n",
       "    }\n",
       "\n",
       "    .dataframe tbody tr th {\n",
       "        vertical-align: top;\n",
       "    }\n",
       "\n",
       "    .dataframe thead th {\n",
       "        text-align: right;\n",
       "    }\n",
       "</style>\n",
       "<table border=\"1\" class=\"dataframe\">\n",
       "  <thead>\n",
       "    <tr style=\"text-align: right;\">\n",
       "      <th></th>\n",
       "      <th>runtime</th>\n",
       "    </tr>\n",
       "  </thead>\n",
       "  <tbody>\n",
       "    <tr>\n",
       "      <th>ALott</th>\n",
       "      <td>26 hours 42 minutes 44.70 seconds</td>\n",
       "    </tr>\n",
       "    <tr>\n",
       "      <th>Alinden</th>\n",
       "      <td>33 hours 10 minutes 28.93 seconds</td>\n",
       "    </tr>\n",
       "    <tr>\n",
       "      <th>CPSF</th>\n",
       "      <td>24 hours 20 minutes 41.57 seconds</td>\n",
       "    </tr>\n",
       "    <tr>\n",
       "      <th>D1810</th>\n",
       "      <td>15 hours 19 minutes 3.44 seconds</td>\n",
       "    </tr>\n",
       "    <tr>\n",
       "      <th>MS2000225</th>\n",
       "      <td>16 hours 26 minutes 30.87 seconds</td>\n",
       "    </tr>\n",
       "    <tr>\n",
       "      <th>QE</th>\n",
       "      <td>17 hours 12 minutes 23.22 seconds</td>\n",
       "    </tr>\n",
       "    <tr>\n",
       "      <th>RPA</th>\n",
       "      <td>14 hours 1 minutes 6.13 seconds</td>\n",
       "    </tr>\n",
       "    <tr>\n",
       "      <th>alban</th>\n",
       "      <td>22 hours 53 minutes 22.24 seconds</td>\n",
       "    </tr>\n",
       "    <tr>\n",
       "      <th>ecoli_xl</th>\n",
       "      <td>44 hours 0 minutes 23.04 seconds</td>\n",
       "    </tr>\n",
       "    <tr>\n",
       "      <th>peplib</th>\n",
       "      <td>16 hours 13 minutes 33.22 seconds</td>\n",
       "    </tr>\n",
       "  </tbody>\n",
       "</table>\n",
       "</div>"
      ],
      "text/plain": [
       "                                     runtime\n",
       "ALott      26 hours 42 minutes 44.70 seconds\n",
       "Alinden    33 hours 10 minutes 28.93 seconds\n",
       "CPSF       24 hours 20 minutes 41.57 seconds\n",
       "D1810       15 hours 19 minutes 3.44 seconds\n",
       "MS2000225  16 hours 26 minutes 30.87 seconds\n",
       "QE         17 hours 12 minutes 23.22 seconds\n",
       "RPA          14 hours 1 minutes 6.13 seconds\n",
       "alban      22 hours 53 minutes 22.24 seconds\n",
       "ecoli_xl    44 hours 0 minutes 23.04 seconds\n",
       "peplib     16 hours 13 minutes 33.22 seconds"
      ]
     },
     "execution_count": 39,
     "metadata": {},
     "output_type": "execute_result"
    }
   ],
   "source": [
    "df"
   ]
  },
  {
   "cell_type": "code",
   "execution_count": null,
   "id": "e16e6ca8-b22e-4598-8e53-16489e5e194d",
   "metadata": {},
   "outputs": [],
   "source": []
  }
 ],
 "metadata": {
  "kernelspec": {
   "display_name": "Python 3 (ipykernel)",
   "language": "python",
   "name": "python3"
  },
  "language_info": {
   "codemirror_mode": {
    "name": "ipython",
    "version": 3
   },
   "file_extension": ".py",
   "mimetype": "text/x-python",
   "name": "python",
   "nbconvert_exporter": "python",
   "pygments_lexer": "ipython3",
   "version": "3.10.13"
  }
 },
 "nbformat": 4,
 "nbformat_minor": 5
}
